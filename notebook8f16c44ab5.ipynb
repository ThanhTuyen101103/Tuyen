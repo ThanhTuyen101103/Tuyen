{
 "cells": [
  {
   "cell_type": "code",
   "execution_count": 1,
   "id": "d687a271",
   "metadata": {
    "_cell_guid": "b1076dfc-b9ad-4769-8c92-a6c4dae69d19",
    "_uuid": "8f2839f25d086af736a60e9eeb907d3b93b6e0e5",
    "execution": {
     "iopub.execute_input": "2023-10-24T09:09:26.073633Z",
     "iopub.status.busy": "2023-10-24T09:09:26.072904Z",
     "iopub.status.idle": "2023-10-24T09:10:20.480003Z",
     "shell.execute_reply": "2023-10-24T09:10:20.478596Z"
    },
    "papermill": {
     "duration": 54.418878,
     "end_time": "2023-10-24T09:10:20.482755",
     "exception": false,
     "start_time": "2023-10-24T09:09:26.063877",
     "status": "completed"
    },
    "tags": []
   },
   "outputs": [
    {
     "name": "stdout",
     "output_type": "stream",
     "text": [
      "Collecting pyspark\r\n",
      "  Downloading pyspark-3.5.0.tar.gz (316.9 MB)\r\n",
      "\u001b[2K     \u001b[90m━━━━━━━━━━━━━━━━━━━━━━━━━━━━━━━━━━━━━━━\u001b[0m \u001b[32m316.9/316.9 MB\u001b[0m \u001b[31m3.4 MB/s\u001b[0m eta \u001b[36m0:00:00\u001b[0m\r\n",
      "\u001b[?25h  Preparing metadata (setup.py) ... \u001b[?25l-\b \bdone\r\n",
      "\u001b[?25hRequirement already satisfied: py4j==0.10.9.7 in /opt/conda/lib/python3.10/site-packages (from pyspark) (0.10.9.7)\r\n",
      "Building wheels for collected packages: pyspark\r\n",
      "  Building wheel for pyspark (setup.py) ... \u001b[?25l-\b \b\\\b \b|\b \bdone\r\n",
      "\u001b[?25h  Created wheel for pyspark: filename=pyspark-3.5.0-py2.py3-none-any.whl size=317425350 sha256=c289505f4237b028ae296effdb3cf24b07a566f6987c531e0449fa10b0ec655b\r\n",
      "  Stored in directory: /root/.cache/pip/wheels/41/4e/10/c2cf2467f71c678cfc8a6b9ac9241e5e44a01940da8fbb17fc\r\n",
      "Successfully built pyspark\r\n",
      "Installing collected packages: pyspark\r\n",
      "Successfully installed pyspark-3.5.0\r\n"
     ]
    }
   ],
   "source": [
    "!pip install pyspark"
   ]
  },
  {
   "cell_type": "code",
   "execution_count": 2,
   "id": "abf8e359",
   "metadata": {
    "execution": {
     "iopub.execute_input": "2023-10-24T09:10:20.520964Z",
     "iopub.status.busy": "2023-10-24T09:10:20.519514Z",
     "iopub.status.idle": "2023-10-24T09:10:21.044636Z",
     "shell.execute_reply": "2023-10-24T09:10:21.043353Z"
    },
    "papermill": {
     "duration": 0.547209,
     "end_time": "2023-10-24T09:10:21.047518",
     "exception": false,
     "start_time": "2023-10-24T09:10:20.500309",
     "status": "completed"
    },
    "tags": []
   },
   "outputs": [],
   "source": [
    "#import libraries\n",
    "from pyspark import SparkContext\n",
    "from pyspark.sql import SQLContext\n",
    "import pandas as pd\n",
    "from pyspark.sql import Row\n",
    "import numpy as np"
   ]
  },
  {
   "cell_type": "code",
   "execution_count": 3,
   "id": "8eac8123",
   "metadata": {
    "execution": {
     "iopub.execute_input": "2023-10-24T09:10:21.084358Z",
     "iopub.status.busy": "2023-10-24T09:10:21.083824Z",
     "iopub.status.idle": "2023-10-24T09:10:27.318055Z",
     "shell.execute_reply": "2023-10-24T09:10:27.316285Z"
    },
    "papermill": {
     "duration": 6.255361,
     "end_time": "2023-10-24T09:10:27.320846",
     "exception": false,
     "start_time": "2023-10-24T09:10:21.065485",
     "status": "completed"
    },
    "tags": []
   },
   "outputs": [
    {
     "name": "stderr",
     "output_type": "stream",
     "text": [
      "Setting default log level to \"WARN\".\n",
      "To adjust logging level use sc.setLogLevel(newLevel). For SparkR, use setLogLevel(newLevel).\n",
      "23/10/24 09:10:25 WARN NativeCodeLoader: Unable to load native-hadoop library for your platform... using builtin-java classes where applicable\n",
      "/opt/conda/lib/python3.10/site-packages/pyspark/sql/context.py:113: FutureWarning: Deprecated in 3.0.0. Use SparkSession.builder.getOrCreate() instead.\n",
      "  warnings.warn(\n"
     ]
    }
   ],
   "source": [
    "sc = SparkContext.getOrCreate()\n",
    "sqlContext = SQLContext(sc)"
   ]
  },
  {
   "cell_type": "code",
   "execution_count": 4,
   "id": "eb0b3a29",
   "metadata": {
    "execution": {
     "iopub.execute_input": "2023-10-24T09:10:27.359383Z",
     "iopub.status.busy": "2023-10-24T09:10:27.358987Z",
     "iopub.status.idle": "2023-10-24T09:10:27.364810Z",
     "shell.execute_reply": "2023-10-24T09:10:27.363631Z"
    },
    "papermill": {
     "duration": 0.027428,
     "end_time": "2023-10-24T09:10:27.367470",
     "exception": false,
     "start_time": "2023-10-24T09:10:27.340042",
     "status": "completed"
    },
    "tags": []
   },
   "outputs": [],
   "source": [
    " #List of words \n",
    "a = [\"spark\",\"rdd\",\"python\",\"context\",\"create\",\"class\"] \n",
    "b = [\"operation\", \"apache\", \"scala\", \"lambda\",\"parallel\",\"partition\"] \n"
   ]
  },
  {
   "cell_type": "code",
   "execution_count": 5,
   "id": "f2de25bd",
   "metadata": {
    "execution": {
     "iopub.execute_input": "2023-10-24T09:10:27.404378Z",
     "iopub.status.busy": "2023-10-24T09:10:27.403509Z",
     "iopub.status.idle": "2023-10-24T09:10:27.829498Z",
     "shell.execute_reply": "2023-10-24T09:10:27.828601Z"
    },
    "papermill": {
     "duration": 0.447315,
     "end_time": "2023-10-24T09:10:27.832242",
     "exception": false,
     "start_time": "2023-10-24T09:10:27.384927",
     "status": "completed"
    },
    "tags": []
   },
   "outputs": [],
   "source": [
    "rdd_A = sc.parallelize(a)\n",
    "rdd_B= sc.parallelize(b)"
   ]
  },
  {
   "cell_type": "code",
   "execution_count": 6,
   "id": "5c2b3d74",
   "metadata": {
    "execution": {
     "iopub.execute_input": "2023-10-24T09:10:27.869435Z",
     "iopub.status.busy": "2023-10-24T09:10:27.868732Z",
     "iopub.status.idle": "2023-10-24T09:10:27.880012Z",
     "shell.execute_reply": "2023-10-24T09:10:27.878836Z"
    },
    "papermill": {
     "duration": 0.03241,
     "end_time": "2023-10-24T09:10:27.882500",
     "exception": false,
     "start_time": "2023-10-24T09:10:27.850090",
     "status": "completed"
    },
    "tags": []
   },
   "outputs": [],
   "source": [
    "A = rdd_A.map(lambda x: Row(name = x))\n",
    "B = rdd_B.map(lambda x: Row(name = x))"
   ]
  },
  {
   "cell_type": "code",
   "execution_count": 7,
   "id": "3131a893",
   "metadata": {
    "execution": {
     "iopub.execute_input": "2023-10-24T09:10:27.919432Z",
     "iopub.status.busy": "2023-10-24T09:10:27.918413Z",
     "iopub.status.idle": "2023-10-24T09:10:32.965667Z",
     "shell.execute_reply": "2023-10-24T09:10:32.964353Z"
    },
    "papermill": {
     "duration": 5.06857,
     "end_time": "2023-10-24T09:10:32.968687",
     "exception": false,
     "start_time": "2023-10-24T09:10:27.900117",
     "status": "completed"
    },
    "tags": []
   },
   "outputs": [
    {
     "name": "stderr",
     "output_type": "stream",
     "text": [
      "                                                                                \r"
     ]
    }
   ],
   "source": [
    "dfA = sqlContext.createDataFrame(A)\n",
    "dfB = sqlContext.createDataFrame(B)"
   ]
  },
  {
   "cell_type": "code",
   "execution_count": 8,
   "id": "c1573a47",
   "metadata": {
    "execution": {
     "iopub.execute_input": "2023-10-24T09:10:33.007245Z",
     "iopub.status.busy": "2023-10-24T09:10:33.006283Z",
     "iopub.status.idle": "2023-10-24T09:10:33.058203Z",
     "shell.execute_reply": "2023-10-24T09:10:33.057011Z"
    },
    "papermill": {
     "duration": 0.07519,
     "end_time": "2023-10-24T09:10:33.061851",
     "exception": false,
     "start_time": "2023-10-24T09:10:32.986661",
     "status": "completed"
    },
    "tags": []
   },
   "outputs": [],
   "source": [
    "df1 = dfA.alias(\"df1\")\n",
    "df2 = dfB.alias(\"df2\")"
   ]
  },
  {
   "cell_type": "code",
   "execution_count": 9,
   "id": "75cf0bef",
   "metadata": {
    "execution": {
     "iopub.execute_input": "2023-10-24T09:10:33.107640Z",
     "iopub.status.busy": "2023-10-24T09:10:33.107054Z",
     "iopub.status.idle": "2023-10-24T09:10:38.531598Z",
     "shell.execute_reply": "2023-10-24T09:10:38.530230Z"
    },
    "papermill": {
     "duration": 5.44878,
     "end_time": "2023-10-24T09:10:38.535683",
     "exception": false,
     "start_time": "2023-10-24T09:10:33.086903",
     "status": "completed"
    },
    "tags": []
   },
   "outputs": [
    {
     "name": "stdout",
     "output_type": "stream",
     "text": [
      "Right Outer Join:\n"
     ]
    },
    {
     "name": "stderr",
     "output_type": "stream",
     "text": [
      "                                                                                \r"
     ]
    },
    {
     "name": "stdout",
     "output_type": "stream",
     "text": [
      "+---------+\n",
      "|     name|\n",
      "+---------+\n",
      "|operation|\n",
      "|    scala|\n",
      "|   apache|\n",
      "|   lambda|\n",
      "|partition|\n",
      "| parallel|\n",
      "+---------+\n",
      "\n"
     ]
    }
   ],
   "source": [
    "#Right Outer Join\n",
    "\n",
    "right_outer = df1.join(other=df2,on=\"name\",how='right_outer')\n",
    "print(\"Right Outer Join:\")\n",
    "right_outer.show()"
   ]
  },
  {
   "cell_type": "code",
   "execution_count": 10,
   "id": "2629404a",
   "metadata": {
    "execution": {
     "iopub.execute_input": "2023-10-24T09:10:38.590972Z",
     "iopub.status.busy": "2023-10-24T09:10:38.590442Z",
     "iopub.status.idle": "2023-10-24T09:10:40.560949Z",
     "shell.execute_reply": "2023-10-24T09:10:40.559775Z"
    },
    "papermill": {
     "duration": 2.002882,
     "end_time": "2023-10-24T09:10:40.564908",
     "exception": false,
     "start_time": "2023-10-24T09:10:38.562026",
     "status": "completed"
    },
    "tags": []
   },
   "outputs": [
    {
     "name": "stdout",
     "output_type": "stream",
     "text": [
      "Full Outer Join:\n"
     ]
    },
    {
     "name": "stderr",
     "output_type": "stream",
     "text": [
      "[Stage 9:=============================>                             (2 + 2) / 4]\r"
     ]
    },
    {
     "name": "stdout",
     "output_type": "stream",
     "text": [
      "+---------+\n",
      "|     name|\n",
      "+---------+\n",
      "|   apache|\n",
      "|    class|\n",
      "|  context|\n",
      "|   create|\n",
      "|   lambda|\n",
      "|operation|\n",
      "| parallel|\n",
      "|partition|\n",
      "|   python|\n",
      "|      rdd|\n",
      "|    scala|\n",
      "|    spark|\n",
      "+---------+\n",
      "\n"
     ]
    },
    {
     "name": "stderr",
     "output_type": "stream",
     "text": [
      "                                                                                \r"
     ]
    }
   ],
   "source": [
    "#Full Outer Join\n",
    "\n",
    "full_outer = df1.join(other=df2,on=\"name\",how='full_outer')\n",
    "print(\"Full Outer Join:\")\n",
    "full_outer.show()"
   ]
  },
  {
   "cell_type": "code",
   "execution_count": 11,
   "id": "798e22ac",
   "metadata": {
    "execution": {
     "iopub.execute_input": "2023-10-24T09:10:40.620853Z",
     "iopub.status.busy": "2023-10-24T09:10:40.620476Z",
     "iopub.status.idle": "2023-10-24T09:10:42.083675Z",
     "shell.execute_reply": "2023-10-24T09:10:42.082605Z"
    },
    "papermill": {
     "duration": 1.511336,
     "end_time": "2023-10-24T09:10:42.102693",
     "exception": false,
     "start_time": "2023-10-24T09:10:40.591357",
     "status": "completed"
    },
    "tags": []
   },
   "outputs": [
    {
     "name": "stdout",
     "output_type": "stream",
     "text": [
      "Full Outer Join:\n"
     ]
    },
    {
     "name": "stderr",
     "output_type": "stream",
     "text": [
      "[Stage 14:>                                                         (0 + 4) / 4]\r"
     ]
    },
    {
     "name": "stdout",
     "output_type": "stream",
     "text": [
      "+---------+\n",
      "|     name|\n",
      "+---------+\n",
      "|   apache|\n",
      "|    class|\n",
      "|  context|\n",
      "|   create|\n",
      "|   lambda|\n",
      "|operation|\n",
      "| parallel|\n",
      "|partition|\n",
      "|   python|\n",
      "|      rdd|\n",
      "|    scala|\n",
      "|    spark|\n",
      "+---------+\n",
      "\n"
     ]
    },
    {
     "name": "stderr",
     "output_type": "stream",
     "text": [
      "                                                                                \r"
     ]
    }
   ],
   "source": [
    "#Full Outer Join\n",
    "\n",
    "full_outer = df1.join(other=df2,on=\"name\",how='full_outer')\n",
    "print(\"Full Outer Join:\")\n",
    "full_outer.show()"
   ]
  },
  {
   "cell_type": "code",
   "execution_count": 12,
   "id": "66449df9",
   "metadata": {
    "execution": {
     "iopub.execute_input": "2023-10-24T09:10:42.170166Z",
     "iopub.status.busy": "2023-10-24T09:10:42.169706Z",
     "iopub.status.idle": "2023-10-24T09:10:44.398080Z",
     "shell.execute_reply": "2023-10-24T09:10:44.396819Z"
    },
    "papermill": {
     "duration": 2.264771,
     "end_time": "2023-10-24T09:10:44.401980",
     "exception": false,
     "start_time": "2023-10-24T09:10:42.137209",
     "status": "completed"
    },
    "tags": []
   },
   "outputs": [
    {
     "name": "stderr",
     "output_type": "stream",
     "text": [
      "                                                                                \r"
     ]
    },
    {
     "name": "stdout",
     "output_type": "stream",
     "text": [
      "Mapped Dataframe with count of 's'\n",
      "+----+\n",
      "|name|\n",
      "+----+\n",
      "|   0|\n",
      "|   2|\n",
      "|   0|\n",
      "|   0|\n",
      "|   0|\n",
      "|   0|\n",
      "|   0|\n",
      "|   0|\n",
      "|   0|\n",
      "|   0|\n",
      "|   1|\n",
      "|   1|\n",
      "+----+\n",
      "\n"
     ]
    }
   ],
   "source": [
    "#Mapping the RDD\n",
    "\n",
    "map_rdd = full_outer.rdd.map(lambda x: sum([word.count('s') for word in x]))\n",
    "map_df = map_rdd.map(lambda x: Row(name = x))\n",
    "map_df = sqlContext.createDataFrame(map_df)\n",
    "print(\"Mapped Dataframe with count of 's'\")\n",
    "map_df.show()"
   ]
  },
  {
   "cell_type": "code",
   "execution_count": 13,
   "id": "2b31bcc3",
   "metadata": {
    "execution": {
     "iopub.execute_input": "2023-10-24T09:10:44.450733Z",
     "iopub.status.busy": "2023-10-24T09:10:44.450308Z",
     "iopub.status.idle": "2023-10-24T09:10:44.836299Z",
     "shell.execute_reply": "2023-10-24T09:10:44.835017Z"
    },
    "papermill": {
     "duration": 0.41128,
     "end_time": "2023-10-24T09:10:44.839917",
     "exception": false,
     "start_time": "2023-10-24T09:10:44.428637",
     "status": "completed"
    },
    "tags": []
   },
   "outputs": [
    {
     "name": "stdout",
     "output_type": "stream",
     "text": [
      "Using Map-Reduce, the character \"s\" appears 4 times in all a and b.\n",
      "\n"
     ]
    }
   ],
   "source": [
    "#Reducing the RDD \n",
    "reduce_rdd=map_rdd.reduce(lambda x,y: x+y) \n",
    "print(\"Using Map-Reduce, the character \\\"s\\\" appears\",reduce_rdd,\"times in all a and b.\\n\" )"
   ]
  },
  {
   "cell_type": "code",
   "execution_count": 14,
   "id": "f397a5c4",
   "metadata": {
    "execution": {
     "iopub.execute_input": "2023-10-24T09:10:44.897720Z",
     "iopub.status.busy": "2023-10-24T09:10:44.897222Z",
     "iopub.status.idle": "2023-10-24T09:10:45.278893Z",
     "shell.execute_reply": "2023-10-24T09:10:45.277321Z"
    },
    "papermill": {
     "duration": 0.414655,
     "end_time": "2023-10-24T09:10:45.282919",
     "exception": false,
     "start_time": "2023-10-24T09:10:44.868264",
     "status": "completed"
    },
    "tags": []
   },
   "outputs": [
    {
     "name": "stdout",
     "output_type": "stream",
     "text": [
      "Using aggregate function, the character \"s\" appears 4 times in all a and b.\n"
     ]
    }
   ],
   "source": [
    "#Aggregate function \n",
    "count = full_outer.rdd.aggregate(0, lambda i, x: i + x[0].count('s'), lambda i, j: i+j) \n",
    "print(\"Using aggregate function, the character \\\"s\\\" appears\",count, \"times in all a and b.\" ) \n"
   ]
  },
  {
   "cell_type": "code",
   "execution_count": 15,
   "id": "55906d83",
   "metadata": {
    "execution": {
     "iopub.execute_input": "2023-10-24T09:10:45.339481Z",
     "iopub.status.busy": "2023-10-24T09:10:45.339003Z",
     "iopub.status.idle": "2023-10-24T09:10:46.917379Z",
     "shell.execute_reply": "2023-10-24T09:10:46.916106Z"
    },
    "papermill": {
     "duration": 1.610736,
     "end_time": "2023-10-24T09:10:46.920824",
     "exception": false,
     "start_time": "2023-10-24T09:10:45.310088",
     "status": "completed"
    },
    "tags": []
   },
   "outputs": [
    {
     "name": "stdout",
     "output_type": "stream",
     "text": [
      "Students records: \n",
      "\n",
      "+-----------+--------------------+---+------------+------------+----+-------------+-----------+----------------+---------------------+-----------------------+\n",
      "|YearofStudy|              Course|Age|ApproxHeight|ApproxWeight|KCSE|Yr_JoinCampus|    SitKCSE|Expense_Semester|Expense_Accommodation|Previous_Exam_MeanGrade|\n",
      "+-----------+--------------------+---+------------+------------+----+-------------+-----------+----------------+---------------------+-----------------------+\n",
      "|Second Year|         MATHEMATICS| 20|         152|          80|2016|         2018|   Central |            8744|                 6043|                      B|\n",
      "| First Year|ECONOMICS AND STA...| 29|         182|          79|2010|         2010|Rift Valley|           26293|                14782|                      B|\n",
      "|Fourth Year|         MATHEMATICS| 22|         167|          64|2015|         2016|    Western|           44105|                19224|                      B|\n",
      "|Second Year|ECONOMICS AND STA...| 23|         149|          52|2016|         2018|      Coast|           33954|                18795|                      B|\n",
      "|Second Year|         MATHEMATICS| 18|         150|          70|2013|         2018|    Western|           18113|                25569|                      A|\n",
      "| Third Year|      URBAN PLANNING| 20|         154|          56|2016|         2017|   Central |           11648|                41028|                      A|\n",
      "| Third Year|         MATHEMATICS| 21|         165|          79|2016|         2017|Rift Valley|           39252|                44024|                      A|\n",
      "| Third Year|         MATHEMATICS| 21|         162|          57|2016|         2017|     Nyanza|           38174|                36925|                      B|\n",
      "|Fourth Year|   ACTUARIAL SCIENCE| 22|         154|          53|2015|         2016|     Nyanza|           40833|                27034|                      B|\n",
      "|Fourth Year|           ECONOMICS| 21|         172|          57|2015|         2016|Rift Valley|           42264|                26059|                      B|\n",
      "| Third Year|         MATHEMATICS| 22|         172|          78|2016|         2017|      Coast|            6811|                39242|                      C|\n",
      "|Second Year|         MATHEMATICS| 22|         160|          60|2015|         2016|      Coast|           34148|                37578|                      B|\n",
      "|Fourth Year|         MATHEMATICS| 23|         170|          66|2015|         2016|    Nairobi|           49155|                21501|                      B|\n",
      "| First Year|ECONOMICS AND STA...| 20|         167|          79|2010|         2010|    Nairobi|           23654|                17407|                      C|\n",
      "|Second Year|ECONOMICS AND STA...| 34|         176|          80|2012|         2012|   Eastern |           32733|                39019|                      E|\n",
      "| Third Year|          STATISTICS| 20|         150|          54|2016|         2017|   Central |           45232|                35910|                      B|\n",
      "| Third Year|ECONOMICS AND STA...| 21|         167|          45|2016|         2017|    Nairobi|           28393|                 9384|                      B|\n",
      "| Third Year| APPLIED MATHEMATICS| 20|         122|          52|2016|         2017|   Central |           24691|                28958|                      B|\n",
      "| Third Year|          STATISTICS| 21|         160|          52|2016|         2017|   Central |           36282|                48476|                      B|\n",
      "|Second Year|          STATISTICS| 21|         200|          65|2018|         2019|    Nairobi|            9726|                20195|                      B|\n",
      "+-----------+--------------------+---+------------+------------+----+-------------+-----------+----------------+---------------------+-----------------------+\n",
      "only showing top 20 rows\n",
      "\n"
     ]
    }
   ],
   "source": [
    "import pyspark\n",
    "\n",
    "# Create a SparkSession\n",
    "spark = pyspark.sql.SparkSession.builder.getOrCreate()\n",
    "\n",
    "# Read the CSV file into a DataFrame\n",
    "df = spark.read.csv(\"/kaggle/input/thanhtuyen\", header=True, inferSchema=True)\n",
    "\n",
    "# Print the DataFrame\n",
    "print(\"Students records: \\n\")\n",
    "df.show()\n"
   ]
  },
  {
   "cell_type": "code",
   "execution_count": 16,
   "id": "b9167296",
   "metadata": {
    "execution": {
     "iopub.execute_input": "2023-10-24T09:10:46.982011Z",
     "iopub.status.busy": "2023-10-24T09:10:46.981125Z",
     "iopub.status.idle": "2023-10-24T09:10:47.265412Z",
     "shell.execute_reply": "2023-10-24T09:10:47.264332Z"
    },
    "papermill": {
     "duration": 0.319618,
     "end_time": "2023-10-24T09:10:47.269149",
     "exception": false,
     "start_time": "2023-10-24T09:10:46.949531",
     "status": "completed"
    },
    "tags": []
   },
   "outputs": [
    {
     "name": "stdout",
     "output_type": "stream",
     "text": [
      "Replacing values in column Course and SitKCSE by 'unknown'and'--': \n",
      "\n",
      "+-----------+--------------------+---+------------+------------+----+-------------+-----------+----------------+---------------------+-----------------------+\n",
      "|YearofStudy|              Course|Age|ApproxHeight|ApproxWeight|KCSE|Yr_JoinCampus|    SitKCSE|Expense_Semester|Expense_Accommodation|Previous_Exam_MeanGrade|\n",
      "+-----------+--------------------+---+------------+------------+----+-------------+-----------+----------------+---------------------+-----------------------+\n",
      "|Second Year|         MATHEMATICS| 20|         152|          80|2016|         2018|   Central |            8744|                 6043|                      B|\n",
      "| First Year|ECONOMICS AND STA...| 29|         182|          79|2010|         2010|Rift Valley|           26293|                14782|                      B|\n",
      "|Fourth Year|         MATHEMATICS| 22|         167|          64|2015|         2016|    Western|           44105|                19224|                      B|\n",
      "|Second Year|ECONOMICS AND STA...| 23|         149|          52|2016|         2018|      Coast|           33954|                18795|                      B|\n",
      "|Second Year|         MATHEMATICS| 18|         150|          70|2013|         2018|    Western|           18113|                25569|                      A|\n",
      "| Third Year|      URBAN PLANNING| 20|         154|          56|2016|         2017|   Central |           11648|                41028|                      A|\n",
      "| Third Year|         MATHEMATICS| 21|         165|          79|2016|         2017|Rift Valley|           39252|                44024|                      A|\n",
      "| Third Year|         MATHEMATICS| 21|         162|          57|2016|         2017|     Nyanza|           38174|                36925|                      B|\n",
      "|Fourth Year|   ACTUARIAL SCIENCE| 22|         154|          53|2015|         2016|     Nyanza|           40833|                27034|                      B|\n",
      "|Fourth Year|           ECONOMICS| 21|         172|          57|2015|         2016|Rift Valley|           42264|                26059|                      B|\n",
      "| Third Year|         MATHEMATICS| 22|         172|          78|2016|         2017|      Coast|            6811|                39242|                      C|\n",
      "|Second Year|         MATHEMATICS| 22|         160|          60|2015|         2016|      Coast|           34148|                37578|                      B|\n",
      "|Fourth Year|         MATHEMATICS| 23|         170|          66|2015|         2016|    Nairobi|           49155|                21501|                      B|\n",
      "| First Year|ECONOMICS AND STA...| 20|         167|          79|2010|         2010|    Nairobi|           23654|                17407|                      C|\n",
      "|Second Year|ECONOMICS AND STA...| 34|         176|          80|2012|         2012|   Eastern |           32733|                39019|                      E|\n",
      "| Third Year|          STATISTICS| 20|         150|          54|2016|         2017|   Central |           45232|                35910|                      B|\n",
      "| Third Year|ECONOMICS AND STA...| 21|         167|          45|2016|         2017|    Nairobi|           28393|                 9384|                      B|\n",
      "| Third Year| APPLIED MATHEMATICS| 20|         122|          52|2016|         2017|   Central |           24691|                28958|                      B|\n",
      "| Third Year|          STATISTICS| 21|         160|          52|2016|         2017|   Central |           36282|                48476|                      B|\n",
      "|Second Year|          STATISTICS| 21|         200|          65|2018|         2019|    Nairobi|            9726|                20195|                      B|\n",
      "+-----------+--------------------+---+------------+------------+----+-------------+-----------+----------------+---------------------+-----------------------+\n",
      "only showing top 20 rows\n",
      "\n"
     ]
    }
   ],
   "source": [
    "df = df.na.fill({'Course':'unknown','SitKCSE':'--'})\n",
    "print(\"Replacing values in column Course and SitKCSE by 'unknown'and'--': \\n\")\n",
    "df.show()"
   ]
  },
  {
   "cell_type": "code",
   "execution_count": 17,
   "id": "7e3cfb87",
   "metadata": {
    "execution": {
     "iopub.execute_input": "2023-10-24T09:10:47.311106Z",
     "iopub.status.busy": "2023-10-24T09:10:47.310726Z",
     "iopub.status.idle": "2023-10-24T09:10:47.999187Z",
     "shell.execute_reply": "2023-10-24T09:10:47.998024Z"
    },
    "papermill": {
     "duration": 0.714004,
     "end_time": "2023-10-24T09:10:48.003183",
     "exception": false,
     "start_time": "2023-10-24T09:10:47.289179",
     "status": "completed"
    },
    "tags": []
   },
   "outputs": [],
   "source": [
    "from pyspark.sql.functions import mean, col\n",
    "from pyspark.sql.functions import UserDefinedFunction\n",
    "from pyspark.sql.types import TimestampType\n",
    "from dateutil import parser\n",
    "avg = df.select(mean(col('Age')).alias('mean')).collect()\n",
    "df = df.na.fill(avg[0]['mean'],subset=['Age'])\n",
    "df = df.na.fill({'Course': 'Big data','SitKCSE':'--'})"
   ]
  },
  {
   "cell_type": "code",
   "execution_count": 18,
   "id": "35a7e768",
   "metadata": {
    "execution": {
     "iopub.execute_input": "2023-10-24T09:10:48.062319Z",
     "iopub.status.busy": "2023-10-24T09:10:48.061767Z",
     "iopub.status.idle": "2023-10-24T09:10:48.738589Z",
     "shell.execute_reply": "2023-10-24T09:10:48.737375Z"
    },
    "papermill": {
     "duration": 0.709665,
     "end_time": "2023-10-24T09:10:48.741085",
     "exception": false,
     "start_time": "2023-10-24T09:10:48.031420",
     "status": "completed"
    },
    "tags": []
   },
   "outputs": [
    {
     "data": {
      "image/png": "[encoded data removed]",
      "text/plain": [
       "<Figure size 640x480 with 1 Axes>"
      ]
     },
     "metadata": {},
     "output_type": "display_data"
    }
   ],
   "source": [
    "import matplotlib.pyplot as plt\n",
    "pt = df.toPandas()['Age']\n",
    "plt.hist(pt,bins=20)\n",
    "plt.show()"
   ]
  }
 ],
 "metadata": {
  "kernelspec": {
   "display_name": "Python 3",
   "language": "python",
   "name": "python3"
  },
  "language_info": {
   "codemirror_mode": {
    "name": "ipython",
    "version": 3
   },
   "file_extension": ".py",
   "mimetype": "text/x-python",
   "name": "python",
   "nbconvert_exporter": "python",
   "pygments_lexer": "ipython3",
   "version": "3.10.12"
  },
  "papermill": {
   "default_parameters": {},
   "duration": 89.008091,
   "end_time": "2023-10-24T09:10:51.383920",
   "environment_variables": {},
   "exception": null,
   "input_path": "__notebook__.ipynb",
   "output_path": "__notebook__.ipynb",
   "parameters": {},
   "start_time": "2023-10-24T09:09:22.375829",
   "version": "2.4.0"
  }
 },
 "nbformat": 4,
 "nbformat_minor": 5
}
